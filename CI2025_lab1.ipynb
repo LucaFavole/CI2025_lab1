{
 "cells": [
  {
   "cell_type": "code",
   "execution_count": 64,
   "id": "491d5d7c",
   "metadata": {},
   "outputs": [],
   "source": [
    "import numpy as np\n",
    "import icecream as ic\n",
    "from tqdm.auto import tqdm"
   ]
  },
  {
   "cell_type": "code",
   "execution_count": 138,
   "id": "562ab478",
   "metadata": {},
   "outputs": [],
   "source": [
    "# Problem 0:\n",
    "rng = np.random.default_rng(seed=42)\n",
    "NUM_KNAPSACKS = 3\n",
    "NUM_ITEMS = 10\n",
    "NUM_DIMENSIONS = 2\n",
    "VALUES = rng.integers(0, 100, size=NUM_ITEMS)\n",
    "WEIGHTS = rng.integers(0, 100, size=(NUM_ITEMS, NUM_DIMENSIONS))\n",
    "CONSTRAINTS = rng.integers(\n",
    "    0, 100 * NUM_ITEMS // NUM_KNAPSACKS, size=(NUM_KNAPSACKS, NUM_DIMENSIONS)\n",
    ")"
   ]
  },
  {
   "cell_type": "code",
   "execution_count": 140,
   "id": "a922da86",
   "metadata": {},
   "outputs": [],
   "source": [
    "# Problem 1:\n",
    "rng = np.random.default_rng(seed=42)\n",
    "NUM_KNAPSACKS = 3\n",
    "NUM_ITEMS = 20\n",
    "NUM_DIMENSIONS = 2\n",
    "VALUES = rng.integers(0, 100, size=NUM_ITEMS)\n",
    "WEIGHTS = rng.integers(0, 100, size=(NUM_ITEMS, NUM_DIMENSIONS))\n",
    "CONSTRAINTS = rng.integers(\n",
    "    0, 100 * NUM_ITEMS // NUM_KNAPSACKS, size=(NUM_KNAPSACKS, NUM_DIMENSIONS)\n",
    ")"
   ]
  },
  {
   "cell_type": "code",
   "execution_count": 132,
   "id": "23e2187d",
   "metadata": {},
   "outputs": [],
   "source": [
    "# Problem 2:\n",
    "rng = np.random.default_rng(seed=42)\n",
    "NUM_KNAPSACKS = 10\n",
    "NUM_ITEMS = 100\n",
    "NUM_DIMENSIONS = 10\n",
    "VALUES = rng.integers(0, 1000, size=NUM_ITEMS)\n",
    "WEIGHTS = rng.integers(0, 1000, size=(NUM_ITEMS, NUM_DIMENSIONS))\n",
    "CONSTRAINTS = rng.integers(\n",
    "    1000 * 2, 1000 * NUM_ITEMS // NUM_KNAPSACKS, size=(NUM_KNAPSACKS, NUM_DIMENSIONS)\n",
    ")"
   ]
  },
  {
   "cell_type": "code",
   "execution_count": 131,
   "id": "dbbc4a3a",
   "metadata": {},
   "outputs": [],
   "source": [
    "# Problem 3:\n",
    "rng = np.random.default_rng(seed=42)\n",
    "NUM_KNAPSACKS = 100\n",
    "NUM_ITEMS = 5000\n",
    "NUM_DIMENSIONS = 100\n",
    "VALUES = rng.integers(0, 1000, size=NUM_ITEMS)\n",
    "WEIGHTS = rng.integers(0, 1000, size=(NUM_ITEMS, NUM_DIMENSIONS))\n",
    "CONSTRAINTS = rng.integers(\n",
    "    1000 * 10, 1000 * 2 * NUM_ITEMS // NUM_KNAPSACKS, size=(NUM_KNAPSACKS, NUM_DIMENSIONS)\n",
    ")"
   ]
  },
  {
   "cell_type": "code",
   "execution_count": 66,
   "id": "f87208d4-8d79-4552-b905-e21f9d157b6e",
   "metadata": {},
   "outputs": [],
   "source": [
    "def is_valid(solution):\n",
    "    if not np.all(solution.sum(axis=0) <= 1):\n",
    "        return False\n",
    "\n",
    "    for k in range(NUM_KNAPSACKS):\n",
    "        items_in_knapsack_k = solution[k]\n",
    "        weight_of_knapsack_k = WEIGHTS[items_in_knapsack_k].sum(axis=0)\n",
    "        if not np.all(weight_of_knapsack_k <= CONSTRAINTS):\n",
    "            return False\n",
    "\n",
    "    return True"
   ]
  },
  {
   "cell_type": "code",
   "execution_count": 67,
   "id": "027379ec",
   "metadata": {},
   "outputs": [],
   "source": [
    "def evaluate(solution):\n",
    "    if not is_valid(solution):\n",
    "        return -1.0\n",
    "    items_placed = np.any(solution, axis=0)\n",
    "    total_value = VALUES[items_placed].sum()\n",
    "    return float(total_value)"
   ]
  },
  {
   "cell_type": "code",
   "execution_count": 68,
   "id": "b9b22e88",
   "metadata": {},
   "outputs": [],
   "source": [
    "def move(solution):\n",
    "    neighbor = solution.copy()\n",
    "    item_to_move = rng.integers(0, NUM_ITEMS)\n",
    "    new_knapsack_idx = rng.integers(-1, NUM_KNAPSACKS)\n",
    "    neighbor[:, item_to_move] = False\n",
    "    if new_knapsack_idx != -1:\n",
    "        neighbor[new_knapsack_idx, item_to_move] = True\n",
    "\n",
    "    return neighbor"
   ]
  },
  {
   "cell_type": "code",
   "execution_count": 69,
   "id": "baf8c74c",
   "metadata": {},
   "outputs": [],
   "source": [
    "def hill_climber_fast(initial_solution: np.ndarray, max_steps_no_improvement: int):\n",
    "    current_solution, current_score = initial_solution, evaluate(initial_solution)\n",
    "    steps_without_improvement = 0\n",
    "    while steps_without_improvement < max_steps_no_improvement:\n",
    "        neighbor = move(current_solution)\n",
    "        neighbor_score = evaluate(neighbor)\n",
    "        if neighbor_score > current_score:\n",
    "            current_solution, current_score = neighbor, neighbor_score\n",
    "            steps_without_improvement = 0\n",
    "        else:\n",
    "            steps_without_improvement += 1\n",
    "    return current_solution, current_score"
   ]
  },
  {
   "cell_type": "code",
   "execution_count": 104,
   "id": "8b1acf70",
   "metadata": {},
   "outputs": [],
   "source": [
    "def create_random_valid_solution():\n",
    "    \n",
    "    solution = np.zeros((NUM_KNAPSACKS, NUM_ITEMS), dtype=bool)\n",
    "    shuffled_items = list(range(NUM_ITEMS))\n",
    "    rng.shuffle(shuffled_items)\n",
    "\n",
    "    for item_idx in shuffled_items:\n",
    "        knapsack_idx = rng.integers(0, NUM_KNAPSACKS)\n",
    "        solution[knapsack_idx, item_idx] = True\n",
    "        if not is_valid(solution):\n",
    "            solution[knapsack_idx, item_idx] = False\n",
    "            \n",
    "    return solution"
   ]
  },
  {
   "cell_type": "code",
   "execution_count": 107,
   "id": "d3a1605e",
   "metadata": {},
   "outputs": [],
   "source": [
    "def crossover(parent1: np.ndarray, parent2: np.ndarray) -> np.ndarray:\n",
    "    child = np.zeros_like(parent1)\n",
    "    for i in range(NUM_ITEMS):\n",
    "        if rng.random() < 0.5:\n",
    "            child[:, i] = parent1[:, i]\n",
    "        else:\n",
    "            child[:, i] = parent2[:, i]\n",
    "    return child"
   ]
  },
  {
   "cell_type": "code",
   "execution_count": null,
   "id": "2e64a0a3",
   "metadata": {},
   "outputs": [],
   "source": [
    "def simulated_annealing_fast(initial_solution: np.ndarray, max_steps: int, initial_temp: float, cooling_rate: float):\n",
    "    \"\"\"\n",
    "    Versione veloce di SA da usare come motore di ricerca locale.\n",
    "    \"\"\"\n",
    "    current_solution = initial_solution\n",
    "    current_score = evaluate(current_solution)\n",
    "    best_solution, best_score = current_solution, current_score\n",
    "    temperature = initial_temp\n",
    "    \n",
    "    for _ in range(max_steps):\n",
    "        neighbor = move(current_solution)\n",
    "        neighbor_score = evaluate(neighbor)\n",
    "        \n",
    "        # Accetta sempre miglioramenti o mosse peggiorative con una certa probabilità\n",
    "        if neighbor_score > current_score or rng.random() < np.exp((neighbor_score - current_score) / temperature):\n",
    "            current_solution, current_score = neighbor, neighbor_score\n",
    "        \n",
    "        if current_score > best_score:\n",
    "            best_solution, best_score = current_solution, current_score\n",
    "            \n",
    "        temperature *= cooling_rate\n",
    "        if temperature < 1e-3: # Evita temperature troppo basse\n",
    "            break\n",
    "\n",
    "    return best_solution, best_score"
   ]
  },
  {
   "cell_type": "code",
   "execution_count": null,
   "id": "abe577b9",
   "metadata": {},
   "outputs": [],
   "source": [
    "def memetic_algorithm(generations: int, mu: int, lambda_: int):\n",
    "    population = [create_random_valid_solution() for _ in range(mu)]\n",
    "    best_solution_so_far, best_score_so_far = None, -1\n",
    "    for gen in range(generations):\n",
    "        offspring = []\n",
    "        for _ in range(lambda_):\n",
    "            parent1 = population[rng.integers(0, mu)]\n",
    "            parent2 = population[rng.integers(0, mu)]\n",
    "            child = crossover(parent1, parent2)\n",
    "            child = move(child)\n",
    "            \n",
    "            improved_child, _ = simulated_annealing_fast(child, max_steps=75, initial_temp=10.0, cooling_rate=0.99)\n",
    "            offspring.append(improved_child)\n",
    "\n",
    "        combined_population = population + offspring\n",
    "        scores = [evaluate(ind) for ind in combined_population]\n",
    "        sorted_indices = np.argsort(scores)[::-1]\n",
    "        population = [combined_population[i] for i in sorted_indices[:mu]]\n",
    "        \n",
    "        current_best_score = scores[sorted_indices[0]]\n",
    "        if current_best_score > best_score_so_far:\n",
    "            best_score_so_far = current_best_score\n",
    "            best_solution_so_far = population[0]\n",
    "            print(f\"  Generazione {gen+1}: Nuovo record! Valore = {best_score_so_far}\")\n",
    "\n",
    "    return best_solution_so_far, best_score_so_far"
   ]
  },
  {
   "cell_type": "code",
   "execution_count": null,
   "id": "b5b25865",
   "metadata": {},
   "outputs": [
    {
     "name": "stdout",
     "output_type": "stream",
     "text": [
      "  Generazione 1: Nuovo record! Valore = 818.0\n",
      "  Generazione 2: Nuovo record! Valore = 834.0\n",
      "  Generazione 3: Nuovo record! Valore = 856.0\n",
      "  Generazione 5: Nuovo record! Valore = 858.0\n",
      "  Generazione 7: Nuovo record! Valore = 867.0\n",
      "  Generazione 20: Nuovo record! Valore = 880.0\n",
      "Valore: 880.0\n"
     ]
    }
   ],
   "source": [
    "\n",
    "GENERATIONS = 50\n",
    "POPULATION_SIZE = 20  # mu (dimensione della popolazione)\n",
    "OFFSPRING_SIZE = 200 # lambda (numero di figli per generazione)\n",
    "\n",
    "best_solution, best_score = memetic_algorithm(\n",
    "    generations=GENERATIONS, \n",
    "    mu=POPULATION_SIZE, \n",
    "    lambda_=OFFSPRING_SIZE\n",
    ")\n",
    "\n",
    "if best_score <= 0:\n",
    "    print(\"Nessuna soluzione trovata trovata con oggetti inseriti.\")\n",
    "else:\n",
    "    print(\"Valore:\", best_score)"
   ]
  },
  {
   "cell_type": "code",
   "execution_count": null,
   "id": "ce7113b0",
   "metadata": {},
   "outputs": [],
   "source": []
  }
 ],
 "metadata": {
  "kernelspec": {
   "display_name": "Python 3",
   "language": "python",
   "name": "python3"
  },
  "language_info": {
   "codemirror_mode": {
    "name": "ipython",
    "version": 3
   },
   "file_extension": ".py",
   "mimetype": "text/x-python",
   "name": "python",
   "nbconvert_exporter": "python",
   "pygments_lexer": "ipython3",
   "version": "3.11.7"
  }
 },
 "nbformat": 4,
 "nbformat_minor": 5
}
