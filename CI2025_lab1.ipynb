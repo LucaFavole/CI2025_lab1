{
 "cells": [
  {
   "cell_type": "code",
   "execution_count": null,
   "id": "491d5d7c",
   "metadata": {},
   "outputs": [],
   "source": [
    "import numpy as np\n",
    "import icecream as ic\n",
    "from tqdm.auto import tqdm"
   ]
  },
  {
   "cell_type": "markdown",
   "id": "8ad12c36",
   "metadata": {},
   "source": [
    "## Problem 0 - Setup\n",
    "Description: generate a small instance (10 items, 3 knapsacks, 2 dimensions).\n",
    "Goal: provide a minimal example to verify evaluation and neighborhood functions."
   ]
  },
  {
   "cell_type": "code",
   "execution_count": 3,
   "id": "562ab478",
   "metadata": {},
   "outputs": [],
   "source": [
    "# Problem 0:\n",
    "rng = np.random.default_rng(seed=42)\n",
    "NUM_KNAPSACKS = 3\n",
    "NUM_ITEMS = 10\n",
    "NUM_DIMENSIONS = 2\n",
    "VALUES = rng.integers(0, 100, size=NUM_ITEMS)\n",
    "WEIGHTS = rng.integers(0, 100, size=(NUM_ITEMS, NUM_DIMENSIONS))\n",
    "CONSTRAINTS = rng.integers(\n",
    "    0, 100 * NUM_ITEMS // NUM_KNAPSACKS, size=(NUM_KNAPSACKS, NUM_DIMENSIONS)\n",
    ")"
   ]
  },
  {
   "cell_type": "markdown",
   "id": "017f640e",
   "metadata": {},
   "source": [
    "## Problem 1 - Medium instance\n",
    "Description: 20 items, 3 knapsacks, 2 dimensions.\n",
    "Box: Experimental goal - run the memetic algorithm and report the best value found."
   ]
  },
  {
   "cell_type": "code",
   "execution_count": 16,
   "id": "a922da86",
   "metadata": {},
   "outputs": [],
   "source": [
    "# Problem 1:\n",
    "rng = np.random.default_rng(seed=42)\n",
    "NUM_KNAPSACKS = 3\n",
    "NUM_ITEMS = 20\n",
    "NUM_DIMENSIONS = 2\n",
    "VALUES = rng.integers(0, 100, size=NUM_ITEMS)\n",
    "WEIGHTS = rng.integers(0, 100, size=(NUM_ITEMS, NUM_DIMENSIONS))\n",
    "CONSTRAINTS = rng.integers(\n",
    "    0, 100 * NUM_ITEMS // NUM_KNAPSACKS, size=(NUM_KNAPSACKS, NUM_DIMENSIONS)\n",
    ")"
   ]
  },
  {
   "cell_type": "markdown",
   "id": "2b4581fb",
   "metadata": {},
   "source": [
    "## Problem 2 - Large instance\n",
    "Description: 100 items, 10 knapsacks, 10 dimensions.\n",
    "Box: Experimental goal - run the memetic algorithm and collect best values to compare with SA."
   ]
  },
  {
   "cell_type": "code",
   "execution_count": 18,
   "id": "23e2187d",
   "metadata": {},
   "outputs": [],
   "source": [
    "# Problem 2:\n",
    "rng = np.random.default_rng(seed=42)\n",
    "NUM_KNAPSACKS = 10\n",
    "NUM_ITEMS = 100\n",
    "NUM_DIMENSIONS = 10\n",
    "VALUES = rng.integers(0, 1000, size=NUM_ITEMS)\n",
    "WEIGHTS = rng.integers(0, 1000, size=(NUM_ITEMS, NUM_DIMENSIONS))\n",
    "CONSTRAINTS = rng.integers(\n",
    "    1000 * 2, 1000 * NUM_ITEMS // NUM_KNAPSACKS, size=(NUM_KNAPSACKS, NUM_DIMENSIONS)\n",
    ")"
   ]
  },
  {
   "cell_type": "markdown",
   "id": "3be4ac0d",
   "metadata": {},
   "source": [
    "## Problem 3 - Very large instance\n",
    "Description: 5000 items, 100 knapsacks, 100 dimensions.\n",
    "Box: Performance note - generating valid solutions can be expensive; consider alternative approaches (pure SA, starting from invalid solutions, lighter initialization)."
   ]
  },
  {
   "cell_type": "code",
   "execution_count": 20,
   "id": "dbbc4a3a",
   "metadata": {},
   "outputs": [],
   "source": [
    "# Problem 3:\n",
    "rng = np.random.default_rng(seed=42)\n",
    "NUM_KNAPSACKS = 100\n",
    "NUM_ITEMS = 5000\n",
    "NUM_DIMENSIONS = 100\n",
    "VALUES = rng.integers(0, 1000, size=NUM_ITEMS)\n",
    "WEIGHTS = rng.integers(0, 1000, size=(NUM_ITEMS, NUM_DIMENSIONS))\n",
    "CONSTRAINTS = rng.integers(\n",
    "    1000 * 10, 1000 * 2 * NUM_ITEMS // NUM_KNAPSACKS, size=(NUM_KNAPSACKS, NUM_DIMENSIONS)\n",
    ")"
   ]
  },
  {
   "cell_type": "code",
   "execution_count": 6,
   "id": "f87208d4-8d79-4552-b905-e21f9d157b6e",
   "metadata": {},
   "outputs": [],
   "source": [
    "def is_valid(solution):\n",
    "    # Check that each item is assigned to at most one knapsack\n",
    "    if not np.all(solution.sum(axis=0) <= 1):\n",
    "        return False\n",
    "\n",
    "    # For each knapsack, compute the total weight and verify capacity constraints\n",
    "    for k in range(NUM_KNAPSACKS):\n",
    "        items_in_knapsack_k = solution[k]\n",
    "        weight_of_knapsack_k = WEIGHTS[items_in_knapsack_k].sum(axis=0)\n",
    "        if not np.all(weight_of_knapsack_k <= CONSTRAINTS):\n",
    "            return False\n",
    "\n",
    "    return True"
   ]
  },
  {
   "cell_type": "code",
   "execution_count": 7,
   "id": "027379ec",
   "metadata": {},
   "outputs": [],
   "source": [
    "def evaluate(solution):\n",
    "    # Return -1 if the solution is invalid, otherwise the sum of selected item values\n",
    "    if not is_valid(solution):\n",
    "        return -1.0\n",
    "    items_placed = np.any(solution, axis=0)\n",
    "    total_value = VALUES[items_placed].sum()\n",
    "    return float(total_value)"
   ]
  },
  {
   "cell_type": "code",
   "execution_count": 8,
   "id": "b9b22e88",
   "metadata": {},
   "outputs": [],
   "source": [
    "def move(solution):\n",
    "    # Generate a neighbor by moving (or removing) a random item\n",
    "    neighbor = solution.copy()\n",
    "    item_to_move = rng.integers(0, NUM_ITEMS)\n",
    "    new_knapsack_idx = rng.integers(-1, NUM_KNAPSACKS)\n",
    "    neighbor[:, item_to_move] = False\n",
    "    if new_knapsack_idx != -1:\n",
    "        neighbor[new_knapsack_idx, item_to_move] = True\n",
    "\n",
    "    return neighbor"
   ]
  },
  {
   "cell_type": "code",
   "execution_count": 9,
   "id": "baf8c74c",
   "metadata": {},
   "outputs": [],
   "source": [
    "def hill_climber_fast(initial_solution: np.ndarray, max_steps_no_improvement: int):\n",
    "    # Simple local search: accepts only improving moves and stops when no improvement is found\n",
    "    current_solution, current_score = initial_solution, evaluate(initial_solution)\n",
    "    steps_without_improvement = 0\n",
    "    while steps_without_improvement < max_steps_no_improvement:\n",
    "        neighbor = move(current_solution)\n",
    "        neighbor_score = evaluate(neighbor)\n",
    "        if neighbor_score > current_score:\n",
    "            current_solution, current_score = neighbor, neighbor_score\n",
    "            steps_without_improvement = 0\n",
    "        else:\n",
    "            steps_without_improvement += 1\n",
    "    return current_solution, current_score"
   ]
  },
  {
   "cell_type": "code",
   "execution_count": 10,
   "id": "8b1acf70",
   "metadata": {},
   "outputs": [],
   "source": [
    "def create_random_valid_solution():\n",
    "    # Build a valid solution by attempting to insert items in random order\n",
    "    solution = np.zeros((NUM_KNAPSACKS, NUM_ITEMS), dtype=bool)\n",
    "    shuffled_items = list(range(NUM_ITEMS))\n",
    "    rng.shuffle(shuffled_items)\n",
    "    for item_idx in shuffled_items:\n",
    "        knapsack_idx = rng.integers(0, NUM_KNAPSACKS)\n",
    "        solution[knapsack_idx, item_idx] = True\n",
    "        if not is_valid(solution):\n",
    "            solution[knapsack_idx, item_idx] = False\n",
    "            \n",
    "    return solution"
   ]
  },
  {
   "cell_type": "code",
   "execution_count": 11,
   "id": "d3a1605e",
   "metadata": {},
   "outputs": [],
   "source": [
    "def crossover(parent1: np.ndarray, parent2: np.ndarray) -> np.ndarray:\n",
    "    # Recombination operator: for each item inherit assignment from one of the parents\n",
    "    child = np.zeros_like(parent1)\n",
    "    for i in range(NUM_ITEMS):\n",
    "        if rng.random() < 0.5:\n",
    "            child[:, i] = parent1[:, i]\n",
    "        else:\n",
    "            child[:, i] = parent2[:, i]\n",
    "    return child"
   ]
  },
  {
   "cell_type": "code",
   "execution_count": 12,
   "id": "2e64a0a3",
   "metadata": {},
   "outputs": [],
   "source": [
    "def simulated_annealing_fast(initial_solution: np.ndarray, max_steps: int, initial_temp: float, cooling_rate: float):\n",
    "    \"\"\"\n",
    "    Fast version of Simulated Annealing used as a local search (memetic phase).\n",
    "    It accepts worsening moves with decreasing probability to escape local minima.\n",
    "    \"\"\"\n",
    "    current_solution = initial_solution\n",
    "    current_score = evaluate(current_solution)\n",
    "    best_solution, best_score = current_solution, current_score\n",
    "    temperature = initial_temp\n",
    "    \n",
    "    for _ in range(max_steps):\n",
    "        neighbor = move(current_solution)\n",
    "        neighbor_score = evaluate(neighbor)\n",
    "        \n",
    "        # accept always if better, otherwise with probability depending on the temperature\n",
    "        if neighbor_score >= current_score or rng.random() < np.exp((neighbor_score - current_score) / temperature):\n",
    "            current_solution, current_score = neighbor, neighbor_score\n",
    "        \n",
    "        if current_score > best_score:\n",
    "            best_solution, best_score = current_solution, current_score\n",
    "            \n",
    "        temperature *= cooling_rate\n",
    "\n",
    "    return best_solution, best_score"
   ]
  },
  {
   "cell_type": "code",
   "execution_count": 13,
   "id": "abe577b9",
   "metadata": {},
   "outputs": [],
   "source": [
    "def memetic_algorithm(generations: int, mu: int, lambda_: int):\n",
    "    # Initialize a population of feasible solutions\n",
    "    population = [create_random_valid_solution() for _ in range(mu)]\n",
    "    # For problem 3 you may initialize differently to speed up evaluations\n",
    "    # population = [np.zeros((NUM_KNAPSACKS, NUM_ITEMS), dtype=bool) for _ in range(mu)]\n",
    "    best_solution_so_far, best_score_so_far = None, -1\n",
    "    for gen in tqdm(range(generations)):\n",
    "        offspring = []\n",
    "        for _ in range(lambda_):\n",
    "            # random parent selection and recombination\n",
    "            parent1 = population[rng.integers(0, mu)]\n",
    "            parent2 = population[rng.integers(0, mu)]\n",
    "            child = crossover(parent1, parent2)\n",
    "            # small random mutation\n",
    "            child = move(child)\n",
    "            # local phase: improve the individual with fast SA\n",
    "            improved_child, _ = simulated_annealing_fast(child, max_steps=75, initial_temp=10.0, cooling_rate=0.99)\n",
    "            offspring.append(improved_child)\n",
    "\n",
    "        # selection: merge parents and offspring, then keep the best mu individuals\n",
    "        combined_population = population + offspring\n",
    "        scores = [evaluate(ind) for ind in combined_population]\n",
    "        sorted_indices = np.argsort(scores)[::-1]\n",
    "        population = [combined_population[i] for i in sorted_indices[:mu]]\n",
    "        \n",
    "        current_best_score = scores[sorted_indices[0]]\n",
    "        if current_best_score > best_score_so_far:\n",
    "            best_score_so_far = current_best_score\n",
    "            best_solution_so_far = population[0]\n",
    "            print(f\"  Generation {gen+1}: new record! value = {best_score_so_far}\")\n",
    "\n",
    "    return best_solution_so_far, best_score_so_far"
   ]
  },
  {
   "cell_type": "code",
   "execution_count": null,
   "id": "b5b25865",
   "metadata": {},
   "outputs": [],
   "source": [
    "\n",
    "GENERATIONS = 50\n",
    "POPULATION_SIZE = 20  # mu (population size)\n",
    "OFFSPRING_SIZE = 200 # lambda (number of offspring per generation)\n",
    "\n",
    "best_solution, best_score = memetic_algorithm(\n",
    "    generations=GENERATIONS, \n",
    "    mu=POPULATION_SIZE, \n",
    "    lambda_=OFFSPRING_SIZE\n",
    ")\n",
    "\n",
    "if best_score <= 0:\n",
    "    print(\"Valid solution not found\")\n",
    "else:\n",
    "    print(\"Value:\", best_score)"
   ]
  },
  {
   "cell_type": "markdown",
   "id": "0fda57fe",
   "metadata": {},
   "source": [
    "### Solution Problem 1\n",
    "Run the memetic algorithm on problem 1 instance and print the best value found."
   ]
  },
  {
   "cell_type": "code",
   "execution_count": 17,
   "id": "94cc8221",
   "metadata": {},
   "outputs": [
    {
     "name": "stderr",
     "output_type": "stream",
     "text": [
      "  2%|▏         | 1/50 [00:00<00:17,  2.86it/s]"
     ]
    },
    {
     "name": "stdout",
     "output_type": "stream",
     "text": [
      "  Generation 1: new record! value = 823.0\n"
     ]
    },
    {
     "name": "stderr",
     "output_type": "stream",
     "text": [
      "  4%|▍         | 2/50 [00:00<00:15,  3.00it/s]"
     ]
    },
    {
     "name": "stdout",
     "output_type": "stream",
     "text": [
      "  Generation 2: new record! value = 838.0\n"
     ]
    },
    {
     "name": "stderr",
     "output_type": "stream",
     "text": [
      "  8%|▊         | 4/50 [00:01<00:15,  2.98it/s]"
     ]
    },
    {
     "name": "stdout",
     "output_type": "stream",
     "text": [
      "  Generation 4: new record! value = 847.0\n"
     ]
    },
    {
     "name": "stderr",
     "output_type": "stream",
     "text": [
      " 10%|█         | 5/50 [00:01<00:15,  2.99it/s]"
     ]
    },
    {
     "name": "stdout",
     "output_type": "stream",
     "text": [
      "  Generation 5: new record! value = 880.0\n"
     ]
    },
    {
     "name": "stderr",
     "output_type": "stream",
     "text": [
      "100%|██████████| 50/50 [00:17<00:00,  2.85it/s]"
     ]
    },
    {
     "name": "stdout",
     "output_type": "stream",
     "text": [
      "Value: 880.0\n"
     ]
    },
    {
     "name": "stderr",
     "output_type": "stream",
     "text": [
      "\n"
     ]
    }
   ],
   "source": [
    "# PROBLEM 1 - run using memetic algorithm parameters similar to the example\n",
    "GENERATIONS = 50\n",
    "POPULATION_SIZE = 20\n",
    "OFFSPRING_SIZE = 200\n",
    "best_solution, best_score = memetic_algorithm(\n",
    "    generations=GENERATIONS, mu=POPULATION_SIZE, lambda_=OFFSPRING_SIZE\n",
    ")\n",
    "if best_score <= 0:\n",
    "    print(\"no solution found\")\n",
    "else:\n",
    "    print(\"Value:\", best_score)"
   ]
  },
  {
   "cell_type": "markdown",
   "id": "f2ff5d9e",
   "metadata": {},
   "source": [
    "### Solution Problem 2\n",
    "Run the memetic algorithm on problem 2 instance and print the best value found."
   ]
  },
  {
   "cell_type": "code",
   "execution_count": 19,
   "id": "3906df51",
   "metadata": {},
   "outputs": [
    {
     "name": "stderr",
     "output_type": "stream",
     "text": [
      "  2%|▏         | 1/50 [00:00<00:17,  2.88it/s]"
     ]
    },
    {
     "name": "stdout",
     "output_type": "stream",
     "text": [
      "  Generation 1: new record! value = 19708.0\n"
     ]
    },
    {
     "name": "stderr",
     "output_type": "stream",
     "text": [
      " 24%|██▍       | 12/50 [00:04<00:12,  2.96it/s]"
     ]
    },
    {
     "name": "stdout",
     "output_type": "stream",
     "text": [
      "  Generation 12: new record! value = 19767.0\n"
     ]
    },
    {
     "name": "stderr",
     "output_type": "stream",
     "text": [
      " 26%|██▌       | 13/50 [00:04<00:12,  2.94it/s]"
     ]
    },
    {
     "name": "stdout",
     "output_type": "stream",
     "text": [
      "  Generation 13: new record! value = 20097.0\n"
     ]
    },
    {
     "name": "stderr",
     "output_type": "stream",
     "text": [
      " 28%|██▊       | 14/50 [00:04<00:12,  2.85it/s]"
     ]
    },
    {
     "name": "stdout",
     "output_type": "stream",
     "text": [
      "  Generation 14: new record! value = 20378.0\n"
     ]
    },
    {
     "name": "stderr",
     "output_type": "stream",
     "text": [
      " 30%|███       | 15/50 [00:05<00:12,  2.86it/s]"
     ]
    },
    {
     "name": "stdout",
     "output_type": "stream",
     "text": [
      "  Generation 15: new record! value = 21330.0\n"
     ]
    },
    {
     "name": "stderr",
     "output_type": "stream",
     "text": [
      " 40%|████      | 20/50 [00:06<00:10,  2.92it/s]"
     ]
    },
    {
     "name": "stdout",
     "output_type": "stream",
     "text": [
      "  Generation 20: new record! value = 21918.0\n"
     ]
    },
    {
     "name": "stderr",
     "output_type": "stream",
     "text": [
      " 52%|█████▏    | 26/50 [00:08<00:08,  2.80it/s]"
     ]
    },
    {
     "name": "stdout",
     "output_type": "stream",
     "text": [
      "  Generation 26: new record! value = 22548.0\n"
     ]
    },
    {
     "name": "stderr",
     "output_type": "stream",
     "text": [
      " 56%|█████▌    | 28/50 [00:09<00:08,  2.58it/s]"
     ]
    },
    {
     "name": "stdout",
     "output_type": "stream",
     "text": [
      "  Generation 28: new record! value = 22715.0\n"
     ]
    },
    {
     "name": "stderr",
     "output_type": "stream",
     "text": [
      " 62%|██████▏   | 31/50 [00:10<00:07,  2.61it/s]"
     ]
    },
    {
     "name": "stdout",
     "output_type": "stream",
     "text": [
      "  Generation 31: new record! value = 23065.0\n"
     ]
    },
    {
     "name": "stderr",
     "output_type": "stream",
     "text": [
      " 72%|███████▏  | 36/50 [00:12<00:05,  2.54it/s]"
     ]
    },
    {
     "name": "stdout",
     "output_type": "stream",
     "text": [
      "  Generation 36: new record! value = 23252.0\n"
     ]
    },
    {
     "name": "stderr",
     "output_type": "stream",
     "text": [
      " 76%|███████▌  | 38/50 [00:13<00:04,  2.52it/s]"
     ]
    },
    {
     "name": "stdout",
     "output_type": "stream",
     "text": [
      "  Generation 38: new record! value = 23419.0\n"
     ]
    },
    {
     "name": "stderr",
     "output_type": "stream",
     "text": [
      " 78%|███████▊  | 39/50 [00:14<00:04,  2.51it/s]"
     ]
    },
    {
     "name": "stdout",
     "output_type": "stream",
     "text": [
      "  Generation 39: new record! value = 23620.0\n"
     ]
    },
    {
     "name": "stderr",
     "output_type": "stream",
     "text": [
      " 94%|█████████▍| 47/50 [00:17<00:01,  2.59it/s]"
     ]
    },
    {
     "name": "stdout",
     "output_type": "stream",
     "text": [
      "  Generation 47: new record! value = 23722.0\n"
     ]
    },
    {
     "name": "stderr",
     "output_type": "stream",
     "text": [
      " 96%|█████████▌| 48/50 [00:17<00:00,  2.56it/s]"
     ]
    },
    {
     "name": "stdout",
     "output_type": "stream",
     "text": [
      "  Generation 48: new record! value = 23757.0\n"
     ]
    },
    {
     "name": "stderr",
     "output_type": "stream",
     "text": [
      " 98%|█████████▊| 49/50 [00:18<00:00,  2.51it/s]"
     ]
    },
    {
     "name": "stdout",
     "output_type": "stream",
     "text": [
      "  Generation 49: new record! value = 24007.0\n"
     ]
    },
    {
     "name": "stderr",
     "output_type": "stream",
     "text": [
      "100%|██████████| 50/50 [00:18<00:00,  2.71it/s]"
     ]
    },
    {
     "name": "stdout",
     "output_type": "stream",
     "text": [
      "Value: 24007.0\n"
     ]
    },
    {
     "name": "stderr",
     "output_type": "stream",
     "text": [
      "\n"
     ]
    }
   ],
   "source": [
    "# PROBLEM 2 - run\n",
    "GENERATIONS = 50\n",
    "POPULATION_SIZE = 20\n",
    "OFFSPRING_SIZE = 200\n",
    "best_solution, best_score = memetic_algorithm(\n",
    "    generations=GENERATIONS, mu=POPULATION_SIZE, lambda_=OFFSPRING_SIZE\n",
    ")\n",
    "if best_score <= 0:\n",
    "    print(\"no solution found\")\n",
    "else:\n",
    "    print(\"Value:\", best_score)"
   ]
  },
  {
   "cell_type": "markdown",
   "id": "2eeabeb4",
   "metadata": {},
   "source": [
    "### Solution Problem 3\n",
    "For the very large instance we run a single SA execution starting from a valid solution to get a quick estimate."
   ]
  },
  {
   "cell_type": "code",
   "execution_count": null,
   "id": "82650427",
   "metadata": {},
   "outputs": [
    {
     "name": "stdout",
     "output_type": "stream",
     "text": [
      "Value: 801343.0\n"
     ]
    }
   ],
   "source": [
    "# PROBLEM 3 - simulated annealing starting from a random valid solution\n",
    "#result with 10 seconds run SA\n",
    "initial_solution = create_random_valid_solution()\n",
    "best_solution, best_score = simulated_annealing_fast(initial_solution, max_steps=1000, initial_temp=100.0, cooling_rate=0.995)\n",
    "if best_score <= 0:\n",
    "    print(\"no solution found\")\n",
    "else:\n",
    "    print(\"Value:\", best_score)"
   ]
  },
  {
   "cell_type": "markdown",
   "id": "4bcf187c",
   "metadata": {},
   "source": [
    "## Final observations\n",
    "- For small and medium problems the memetic algorithm significantly improves results compared to pure SA.\n",
    "- For problem 3 generating valid solutions is expensive; hybrid approaches or lighter initializations are recommended."
   ]
  },
  {
   "cell_type": "code",
   "execution_count": null,
   "id": "ce7113b0",
   "metadata": {},
   "outputs": [],
   "source": [
    "# Shortened run for Problem 3: use a lightweight local search to get a quick estimate\n",
    "current_solution = create_random_valid_solution()\n",
    "current_score = evaluate(current_solution)\n",
    "_, current_score = simulated_annealing_fast(current_solution, 5000, 10, 0.99)\n",
    "\n",
    "print(current_score)\n"
   ]
  }
 ],
 "metadata": {
  "kernelspec": {
   "display_name": "Python 3",
   "language": "python",
   "name": "python3"
  },
  "language_info": {
   "codemirror_mode": {
    "name": "ipython",
    "version": 3
   },
   "file_extension": ".py",
   "mimetype": "text/x-python",
   "name": "python",
   "nbconvert_exporter": "python",
   "pygments_lexer": "ipython3",
   "version": "3.11.7"
  }
 },
 "nbformat": 4,
 "nbformat_minor": 5
}
